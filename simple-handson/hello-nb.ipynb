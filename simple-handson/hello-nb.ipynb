{
 "cells": [
  {
   "cell_type": "code",
   "execution_count": 1,
   "id": "586004d2-d207-43cd-bdbd-fc8d46d7ce7c",
   "metadata": {},
   "outputs": [
    {
     "name": "stdout",
     "output_type": "stream",
     "text": [
      "hello jupyter!\n"
     ]
    }
   ],
   "source": [
    "print(\"This model learn simple relationship between x and y\")"
   ]
  },
  {
   "cell_type": "code",
   "execution_count": 3,
   "id": "c1b03545-7c93-4b9c-a312-0ee2c9cd99d4",
   "metadata": {},
   "outputs": [
    {
     "name": "stdout",
     "output_type": "stream",
     "text": [
      "coeff: [0.5 0.5]\n",
      "Intercept: 4.440892098500626e-16\n",
      "Prediction for [3,3]:  [3.]\n"
     ]
    }
   ],
   "source": [
    "from sklearn import linear_model\n",
    "\n",
    "reg = linear_model.LinearRegression()\n",
    "\n",
    "x = [[0,0], [1,1], [2,2]]\n",
    "\n",
    "y = [0, 1, 2]\n",
    "\n",
    "\n",
    "reg.fit(x,y)\n",
    "\n",
    "print(\"coeff:\", reg.coef_)\n",
    "print(\"Intercept:\", reg.intercept_)\n",
    "\n",
    "pred = reg.predict([[3,3]])\n",
    "\n",
    "print(\"Prediction for [3,3]: \", pred)"
   ]
  },
  {
   "cell_type": "code",
   "execution_count": 4,
   "id": "694b6435-be91-48ea-804a-d5391af5add1",
   "metadata": {},
   "outputs": [
    {
     "name": "stdout",
     "output_type": "stream",
     "text": [
      "[4.]\n"
     ]
    }
   ],
   "source": [
    "pred = reg.predict([[4,4]])\n",
    "print(pred)"
   ]
  },
  {
   "cell_type": "code",
   "execution_count": 5,
   "id": "f35d66e0-dbe3-4e2c-a39c-98c1ea2703f5",
   "metadata": {},
   "outputs": [
    {
     "name": "stdout",
     "output_type": "stream",
     "text": [
      "[100.]\n"
     ]
    }
   ],
   "source": [
    "pred = reg.predict([[100,100]])\n",
    "print(pred)"
   ]
  },
  {
   "cell_type": "code",
   "execution_count": 7,
   "id": "c7cd5628-f6d3-47f6-a37d-08912adb2a2d",
   "metadata": {},
   "outputs": [
    {
     "name": "stdout",
     "output_type": "stream",
     "text": [
      "[103.5]\n"
     ]
    }
   ],
   "source": [
    "pred = reg.predict([[105, 102]])\n",
    "print(pred)"
   ]
  },
  {
   "cell_type": "code",
   "execution_count": 8,
   "id": "d14a0e1a-db57-4313-80b1-fa149d9bb54b",
   "metadata": {},
   "outputs": [
    {
     "name": "stdout",
     "output_type": "stream",
     "text": [
      "[475.]\n"
     ]
    }
   ],
   "source": [
    "pred = reg.predict([[500, 450]])\n",
    "print(pred)"
   ]
  },
  {
   "cell_type": "code",
   "execution_count": 12,
   "id": "29003f8d-9f0d-43bb-97e3-1b9d81ab3cd2",
   "metadata": {},
   "outputs": [
    {
     "data": {
      "text/plain": [
       "array([0.5, 0.5])"
      ]
     },
     "execution_count": 12,
     "metadata": {},
     "output_type": "execute_result"
    }
   ],
   "source": [
    "reg.coef_"
   ]
  },
  {
   "cell_type": "code",
   "execution_count": null,
   "id": "f3c3b969-e438-40d9-95f7-e0845890809d",
   "metadata": {},
   "outputs": [],
   "source": []
  }
 ],
 "metadata": {
  "kernelspec": {
   "display_name": "Python 3 (ipykernel)",
   "language": "python",
   "name": "python3"
  },
  "language_info": {
   "codemirror_mode": {
    "name": "ipython",
    "version": 3
   },
   "file_extension": ".py",
   "mimetype": "text/x-python",
   "name": "python",
   "nbconvert_exporter": "python",
   "pygments_lexer": "ipython3",
   "version": "3.13.3"
  }
 },
 "nbformat": 4,
 "nbformat_minor": 5
}
