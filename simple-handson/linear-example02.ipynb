{
 "cells": [
  {
   "cell_type": "code",
   "execution_count": 9,
   "id": "ef683e04-d99b-49eb-8db7-e699855c7645",
   "metadata": {},
   "outputs": [
    {
     "name": "stdout",
     "output_type": "stream",
     "text": [
      "Coefficients:  [0.58189655 0.58189655]\n",
      "Intercept:  -0.8534482758620712\n",
      "MSE:  0.04685642092746706\n",
      "R^2 score:  0.9974058728898288\n"
     ]
    }
   ],
   "source": [
    "# Two or more features Linear Regression\n",
    "\n",
    "from common_imports import *\n",
    "\n",
    "# dataset: [Hours studied, Sleep hours]\n",
    "\n",
    "X = np.array([[1,5],[2,6],[3,7],[4,8],[5,9],[6,10],[7,11],[8,12],[9,13],[10,14]])\n",
    "\n",
    "# target - Score\n",
    "y = np.array([2.5, 3.5, 5.0, 6.5, 7.0,8.5,9.5,11,12,13])\n",
    "\n",
    "# train test split\n",
    "X_train, X_test, y_train, y_test = train_test_split(X, y, test_size=0.2, random_state=42)\n",
    "\n",
    "model = LinearRegression()\n",
    "model.fit(X_train, y_train)\n",
    "\n",
    "#predict\n",
    "y_pred = model.predict(X_test)\n",
    "\n",
    "# results\n",
    "print(\"Coefficients: \", model.coef_)\n",
    "print(\"Intercept: \", model.intercept_)\n",
    "\n",
    "# evaluate\n",
    "print(\"MSE: \", mean_squared_error(y_test, y_pred))\n",
    "print(\"R^2 score: \", r2_score(y_test, y_pred)) # r2 score is undefined with less than two test samples\n",
    "\n",
    "\n",
    "# Coefficients show how each feature affects the prediction\n",
    "# Intercept = base value when all features are zero\n",
    "# R² = how well model fits the data\n",
    "\n"
   ]
  },
  {
   "cell_type": "code",
   "execution_count": null,
   "id": "4c0c8312-1d7b-4767-b628-53c62e18ffa6",
   "metadata": {},
   "outputs": [],
   "source": []
  }
 ],
 "metadata": {
  "kernelspec": {
   "display_name": "Python 3 (ipykernel)",
   "language": "python",
   "name": "python3"
  },
  "language_info": {
   "codemirror_mode": {
    "name": "ipython",
    "version": 3
   },
   "file_extension": ".py",
   "mimetype": "text/x-python",
   "name": "python",
   "nbconvert_exporter": "python",
   "pygments_lexer": "ipython3",
   "version": "3.13.3"
  }
 },
 "nbformat": 4,
 "nbformat_minor": 5
}
