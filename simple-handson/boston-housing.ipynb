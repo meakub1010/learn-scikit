{
 "cells": [
  {
   "cell_type": "code",
   "execution_count": 11,
   "id": "4cfa9ffe-3720-4e23-b1aa-9d5bc5cbf555",
   "metadata": {
    "scrolled": true
   },
   "outputs": [
    {
     "name": "stdout",
     "output_type": "stream",
     "text": [
      "MSE:  24.29111947497367\n",
      "R2:  0.6687594935356299\n"
     ]
    }
   ],
   "source": [
    "# using boston housing data\n",
    "import warnings\n",
    "warnings.filterwarnings('ignore') # supress deprecation warnings\n",
    "\n",
    "import ssl\n",
    "import certifi\n",
    "\n",
    "ssl._create_default_https_context = lambda: ssl.create_default_context(cafile=certifi.where())\n",
    "\n",
    "\n",
    "import pandas as pd\n",
    "import numpy as np\n",
    "\n",
    "# fetch_openml - fetch dataset from openml by name or dataset id\n",
    "from sklearn.datasets import fetch_openml\n",
    "\n",
    "# train_test_split - split arrays or metrics into random train and test subsets\n",
    "# '''\n",
    "# sklearn.model_selection.train_test_split(*arrays, test_size=None, train_size=None, random_state=None, shuffle=True, stratiofy=None)\n",
    "\n",
    "# arrays -> inputs are list, array, spicy sparse metrics etc\n",
    "# test_size -> between 0.0 and 1.0\n",
    "# train_size -> \n",
    "\n",
    "# https://scikit-learn.org/stable/modules/generated/sklearn.model_selection.train_test_split.html#sklearn.model_selection.train_test_split\n",
    "\n",
    "# '''\n",
    "\n",
    "from sklearn.model_selection import train_test_split\n",
    "from sklearn.linear_model import LinearRegression\n",
    "from sklearn.metrics import mean_squared_error, r2_score\n",
    "\n",
    "\n",
    "boston = fetch_openml(name=\"boston\", version=1, as_frame=True)\n",
    "\n",
    "\n",
    "X = boston.data\n",
    "y = boston.target\n",
    "\n",
    "# in order to apply linear regression all X must be float64 or int64\n",
    "# y must be numeric\n",
    "\n",
    "#print(X.dtypes)\n",
    "#print(y.dtypes)\n",
    "\n",
    "# linear regression predict requires numeric array, so convert X and y to numeric\n",
    "\n",
    "X = X.apply(pd.to_numeric, errors='coerce')\n",
    "y = pd.to_numeric(y, errors='coerce')\n",
    "\n",
    "# replace NaN to 0\n",
    "\n",
    "X = X.fillna(0)\n",
    "y = y.fillna(0)\n",
    "\n",
    "X_train, X_test, y_train, y_test = train_test_split(X, y, test_size=0.2, random_state=42)\n",
    "\n",
    "model = LinearRegression()\n",
    "model.fit(X_train, y_train)\n",
    "\n",
    "\n",
    "y_pred = model.predict(X_test)\n",
    "\n",
    "print(\"MSE: \", mean_squared_error(y_test, y_pred))\n",
    "print(\"R2: \", r2_score(y_test, y_pred))\n",
    "\n"
   ]
  }
 ],
 "metadata": {
  "kernelspec": {
   "display_name": "Python 3 (ipykernel)",
   "language": "python",
   "name": "python3"
  },
  "language_info": {
   "codemirror_mode": {
    "name": "ipython",
    "version": 3
   },
   "file_extension": ".py",
   "mimetype": "text/x-python",
   "name": "python",
   "nbconvert_exporter": "python",
   "pygments_lexer": "ipython3",
   "version": "3.13.3"
  }
 },
 "nbformat": 4,
 "nbformat_minor": 5
}
